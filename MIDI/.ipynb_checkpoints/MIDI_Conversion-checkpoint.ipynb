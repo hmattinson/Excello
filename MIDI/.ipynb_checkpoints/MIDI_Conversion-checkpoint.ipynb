{
 "cells": [
  {
   "cell_type": "markdown",
   "metadata": {},
   "source": [
    "# Implementation"
   ]
  },
  {
   "cell_type": "code",
   "execution_count": 657,
   "metadata": {},
   "outputs": [],
   "source": [
    "import mido\n",
    "import csv\n",
    "import os"
   ]
  },
  {
   "cell_type": "code",
   "execution_count": 178,
   "metadata": {},
   "outputs": [],
   "source": [
    "def cprint(s,b):\n",
    "    if b:\n",
    "        print(s)"
   ]
  },
  {
   "cell_type": "code",
   "execution_count": 273,
   "metadata": {},
   "outputs": [],
   "source": [
    "def get_active_notes(mid):\n",
    "    active_notes = {}\n",
    "    tracks = mid.tracks\n",
    "    num_tracks = len(tracks)\n",
    "    all_notes = num_tracks * [None]\n",
    "    for i in range(0, num_tracks):\n",
    "        track = tracks[i]\n",
    "        time = 0\n",
    "        all_notes[i] = []\n",
    "        for msg in track:\n",
    "            msg_dict = msg.dict()\n",
    "            time += msg_dict['time']\n",
    "            if msg.type == 'note_on' or msg.type == 'note_off':\n",
    "                vel = msg_dict['velocity']\n",
    "                if vel > 0 and msg.type == 'note_on':\n",
    "                    # Using a list for the active notes becuase note 71 in io.mid was definied twice at once\n",
    "                    if active_notes.has_key(msg_dict['note']):\n",
    "                        active_notes[msg_dict['note']].append({'time':time,'velocity':vel})\n",
    "                    else:\n",
    "                        active_notes[msg_dict['note']] = [{'time':time, 'velocity': vel}]\n",
    "                elif vel == 0 or msg.type == 'note_off':\n",
    "                    note = msg_dict['note']\n",
    "                    if len(active_notes[note])>0:\n",
    "                        start_msg = active_notes[note].pop()\n",
    "                        new_note = {'note': note, 'start': start_msg['time'],\n",
    "                                    'end': time, 'velocity': start_msg['velocity']}\n",
    "                        all_notes[i].append(new_note)\n",
    "    return all_notes"
   ]
  },
  {
   "cell_type": "code",
   "execution_count": 44,
   "metadata": {},
   "outputs": [],
   "source": [
    "def create_streams(all_notes):\n",
    "    streams = []\n",
    "    for notes in all_notes:\n",
    "        while notes != []:\n",
    "            stream = []\n",
    "            vel = 0\n",
    "            current_end = 0\n",
    "            for note in notes:\n",
    "                if note['start'] >= current_end:\n",
    "                    if note['velocity'] != vel:\n",
    "                        vel = note['velocity']\n",
    "                    else:\n",
    "                        del note['velocity']\n",
    "                    stream.append(note)\n",
    "                    current_end = note['end']\n",
    "            streams.append(stream)\n",
    "            for note in stream:\n",
    "                notes.remove(note)\n",
    "    return streams"
   ]
  },
  {
   "cell_type": "code",
   "execution_count": 645,
   "metadata": {},
   "outputs": [],
   "source": [
    "midiNotes = ['C','C#','D','D#','E','F','F#','G','G#','A','A#','B']\n",
    "def midi2str(midi):\n",
    "    return midiNotes[midi%12] + str(midi/12 -1)"
   ]
  },
  {
   "cell_type": "code",
   "execution_count": 653,
   "metadata": {},
   "outputs": [],
   "source": [
    "def streams_to_cells(streams, speed, printing):\n",
    "    max_time = int(max([x['end'] for x in [item for sublist in streams for item in sublist]]))+1\n",
    "    start_cells = 'A2:A' + str(1+len(streams))\n",
    "    instructions = 'r m' + str(max_time-1)\n",
    "    turtles = [['!turtle(' + start_cells + ', ' + instructions + ', ' + str(speed) + ', 1)']]\n",
    "    for stream in streams:\n",
    "        cells = [\"\"] * max_time\n",
    "        for note in stream:\n",
    "            start = int(note['start'])\n",
    "            cells[start] = midi2str(note['note'])\n",
    "            if note.has_key('velocity'):\n",
    "                cells[start] += (' ' + str(round(float(note['velocity'])/127,2)))\n",
    "            for rest_duration in range(1,int(note['length'])):\n",
    "                cells[start+rest_duration] = '-'\n",
    "        turtles.append(cells)\n",
    "    cprint(str(len(turtles)) + ' x ' + str(max([len(stream) for stream in turtles])), printing)\n",
    "    return turtles"
   ]
  },
  {
   "cell_type": "code",
   "execution_count": 485,
   "metadata": {},
   "outputs": [],
   "source": [
    "def midi_to_excello(file_name, method=1, logging=False, printing=True):\n",
    "    # Fetch MIDI file\n",
    "    mid = mido.MidiFile(file_name) \n",
    "    tempo = [m.dict()['tempo'] for m in mid.tracks[0] if m.dict().has_key('tempo')][0]\n",
    "    ticks_per_beat = mid.ticks_per_beat\n",
    "    # Extract the notes from as onset, note, offset, volume from messages\n",
    "    all_notes = get_active_notes(mid)\n",
    "    # Split into the streams as played by individual turtles\n",
    "    streams = create_streams(all_notes)\n",
    "    all_notes = [item for sublist in streams for item in sublist]\n",
    "    cprint('Number of turtles: ' + str(len(streams)), printing)\n",
    "    \n",
    "    # No Compression\n",
    "    if method == 0:\n",
    "        cprint(\"No Compression\", printing)\n",
    "        difference_stat = 1\n",
    "        ratio_int = 1\n",
    "        for stream in streams:\n",
    "            for note in stream:\n",
    "                note['length'] = note['end'] - note['start']\n",
    "    #Compression\n",
    "    else:\n",
    "        differences = [(y['start']-x['start']) for x, y in zip(all_notes[:-1], all_notes[1:])]\n",
    "        lengths = [(x['end'] - x['start']) for x in [item for sublist in streams for item in sublist]]\n",
    "        # Mins\n",
    "        if method == 1:\n",
    "            cprint(\"Min Compression\", printing)\n",
    "            difference_stat = min([x for x in differences if x > 1])\n",
    "            length_stat = min([x for x in lengths if x > 1])\n",
    "        # Modes \n",
    "        elif method == 2:\n",
    "            cprint(\"Mode Compression\", printing)\n",
    "            difference_stat = max(set(differences), key=differences.count)\n",
    "            length_stat = max(set(lengths), key=lengths.count)\n",
    "\n",
    "        cprint('note difference stat: ' + str(difference_stat), printing)\n",
    "        cprint('note length stat: ' + str(length_stat), printing)\n",
    "\n",
    "        mode_ratio = (float(max(difference_stat, length_stat)) / min(difference_stat, length_stat))\n",
    "        cprint('mode ratio: ' + str(mode_ratio), printing)\n",
    "        ratio_int = int(mode_ratio)\n",
    "        cprint('integer ratio: ' + str(ratio_int), printing)\n",
    "#         ratio_correction = mode_ratio/ratio_int\n",
    "#         cprint('ratio correction: ' + str(ratio_correction), printing)\n",
    "    \n",
    "        # Convert MIDI times to cell times\n",
    "        rounding_base = 0.1\n",
    "        for stream in streams:\n",
    "            for note in stream:\n",
    "                note['length'] = ((float(note['end']) - note['start'])/length_stat) \n",
    "                note['length'] = rounding_base * round(note['length']/rounding_base)\n",
    "                note['start'] = round(rounding_base * round((float(note['start'])/difference_stat*ratio_int)/rounding_base))\n",
    "                note['end'] = note['start'] + note['length']\n",
    "            \n",
    "    speed = int(round((float(60*10**6)/tempo) * ticks_per_beat * (float(ratio_int)/difference_stat)))\n",
    "    cprint(speed, printing)\n",
    "            \n",
    "    csv_name = file_name[::-1].replace('/','_',file_name.count('/')-2)[::-1]\n",
    "    csv_name = csv_name.replace('/midi','/csv/' + str(method)).replace('.mid','.csv')\n",
    "    with open(csv_name, \"wb\") as f:\n",
    "        writer = csv.writer(f)\n",
    "        writer.writerows(streams_to_cells(streams, speed, printing))\n",
    "    cprint(\"Written to \" + csv_name, printing)\n",
    "    \n",
    "    if logging:\n",
    "        cprint([csv_name, len(streams), int(max([x['end'] for x in [item for sublist in streams for item in sublist]]))], printing)\n",
    "        return [csv_name, len(streams), int(max([x['end'] for x in [item for sublist in streams for item in sublist]]))]"
   ]
  },
  {
   "cell_type": "markdown",
   "metadata": {},
   "source": [
    "# Converting"
   ]
  },
  {
   "cell_type": "markdown",
   "metadata": {},
   "source": [
    "0: No Compression<br>\n",
    "1: Compression using Minimum difference<br>\n",
    "2: Compression using Modal difference"
   ]
  },
  {
   "cell_type": "code",
   "execution_count": 682,
   "metadata": {},
   "outputs": [
    {
     "name": "stdout",
     "output_type": "stream",
     "text": [
      "Number of turtles: 15\n",
      "Mode Compression\n",
      "note difference stat: 240\n",
      "note length stat: 120\n",
      "mode ratio: 2.0\n",
      "integer ratio: 2\n",
      "400\n",
      "16 x 1291\n",
      "Written to piano-midi/csv/2/debussy_DEB_CLAI.csv\n"
     ]
    }
   ],
   "source": [
    "midi_to_excello('piano-midi/midi/debussy/DEB_CLAI.mid', 2)"
   ]
  },
  {
   "cell_type": "markdown",
   "metadata": {},
   "source": [
    "# Corpus Conversion"
   ]
  },
  {
   "cell_type": "code",
   "execution_count": 692,
   "metadata": {},
   "outputs": [],
   "source": [
    "datasets = ['piano-midi', 'bach', 'bach_chorales']"
   ]
  },
  {
   "cell_type": "code",
   "execution_count": 693,
   "metadata": {},
   "outputs": [],
   "source": [
    "def convert_corpus(corpus, method):\n",
    "    midi_files = corpus + '/midi'\n",
    "    files = []\n",
    "    for r, _, f in os.walk(midi_files):\n",
    "        for file in f:\n",
    "            if '.mid' in file or '.MID' in file:\n",
    "                files.append(os.path.join(r, file))\n",
    "                \n",
    "    if midi_files == 'bach/midi':\n",
    "        files.remove('bach/midi/suites/airgstr4.mid')\n",
    "        files = [ x for x in files if \"wtcbki/\" not in x ]\n",
    "    \n",
    "    log = []\n",
    "    for f in files:\n",
    "        log.append(midi_to_excello(f, method, logging=True, printing=False)) # This also writes the file to disk. \n",
    "    log.sort(key=lambda x: x[2], reverse=False)\n",
    "    \n",
    "    with open(midi_files.replace('/midi','/csv') + '/' + 'log' + str(method) + '.txt', mode=\"w\") as outfile:\n",
    "        outfile.write('%s\\n'% len(log))\n",
    "        for s in log:\n",
    "            outfile.write(\"%s\\n\" % s)"
   ]
  },
  {
   "cell_type": "code",
   "execution_count": 694,
   "metadata": {
    "scrolled": true
   },
   "outputs": [
    {
     "name": "stdout",
     "output_type": "stream",
     "text": [
      "('piano-midi', 0)\n",
      "('piano-midi', 1)\n",
      "('piano-midi', 2)\n",
      "('bach', 0)\n",
      "('bach', 1)\n",
      "('bach', 2)\n",
      "('bach_chorales', 0)\n",
      "('bach_chorales', 1)\n",
      "('bach_chorales', 2)\n"
     ]
    }
   ],
   "source": [
    "for corpus in datasets:\n",
    "    for method in [0,1,2]:\n",
    "        print(corpus, method)\n",
    "        convert_corpus(corpus, method)"
   ]
  },
  {
   "cell_type": "markdown",
   "metadata": {},
   "source": [
    "# MIDI note name conversion test"
   ]
  },
  {
   "cell_type": "code",
   "execution_count": 655,
   "metadata": {},
   "outputs": [
    {
     "name": "stdout",
     "output_type": "stream",
     "text": [
      "True\n",
      "True\n",
      "True\n",
      "True\n",
      "True\n",
      "True\n",
      "True\n",
      "True\n",
      "True\n",
      "True\n",
      "True\n",
      "True\n",
      "True\n",
      "True\n",
      "True\n",
      "True\n",
      "True\n",
      "True\n",
      "True\n",
      "True\n",
      "True\n",
      "True\n",
      "True\n",
      "True\n",
      "True\n",
      "True\n",
      "True\n",
      "True\n",
      "True\n",
      "True\n",
      "True\n",
      "True\n",
      "True\n",
      "True\n",
      "True\n",
      "True\n",
      "True\n",
      "True\n",
      "True\n",
      "True\n",
      "True\n",
      "True\n",
      "True\n",
      "True\n",
      "True\n",
      "True\n",
      "True\n",
      "True\n",
      "True\n",
      "True\n",
      "True\n",
      "True\n",
      "True\n",
      "True\n",
      "True\n",
      "True\n",
      "True\n",
      "True\n",
      "True\n",
      "True\n",
      "True\n",
      "True\n",
      "True\n",
      "True\n",
      "True\n",
      "True\n",
      "True\n",
      "True\n",
      "True\n",
      "True\n",
      "True\n",
      "True\n",
      "True\n",
      "True\n",
      "True\n",
      "True\n",
      "True\n",
      "True\n",
      "True\n",
      "True\n",
      "True\n",
      "True\n",
      "True\n",
      "True\n",
      "True\n",
      "True\n",
      "True\n",
      "True\n",
      "True\n",
      "True\n",
      "True\n",
      "True\n",
      "True\n",
      "True\n",
      "True\n",
      "True\n",
      "True\n",
      "True\n",
      "True\n",
      "True\n",
      "True\n",
      "True\n",
      "True\n",
      "True\n",
      "True\n",
      "True\n",
      "True\n",
      "True\n"
     ]
    }
   ],
   "source": [
    "import audiolazy\n",
    "for i in range(12,120):\n",
    "    print(audiolazy.midi2str(i) == midi2str(i))"
   ]
  }
 ],
 "metadata": {
  "kernelspec": {
   "display_name": "Python [conda root]",
   "language": "python",
   "name": "conda-root-py"
  },
  "language_info": {
   "codemirror_mode": {
    "name": "ipython",
    "version": 2
   },
   "file_extension": ".py",
   "mimetype": "text/x-python",
   "name": "python",
   "nbconvert_exporter": "python",
   "pygments_lexer": "ipython2",
   "version": "2.7.15"
  }
 },
 "nbformat": 4,
 "nbformat_minor": 2
}
